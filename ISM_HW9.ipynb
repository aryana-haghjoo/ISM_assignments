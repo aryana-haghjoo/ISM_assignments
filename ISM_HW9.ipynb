{
 "cells": [
  {
   "cell_type": "code",
   "execution_count": 25,
   "metadata": {},
   "outputs": [],
   "source": [
    "import numpy as np\n",
    "import pint\n",
    "ureg = pint.UnitRegistry()\n",
    "h = 6.62e-34 * ureg.joule * ureg.second\n",
    "h_bar = h / (2 * np.pi)\n",
    "k_B = 1.38e-23 * ureg.joule / ureg.kelvin\n",
    "T = 40 * ureg.kelvin\n",
    "I = 1.46e-46 * ureg.kg * ureg.meter**2\n",
    "nu_0 = 115e9 * ureg.hertz\n"
   ]
  },
  {
   "cell_type": "code",
   "execution_count": 26,
   "metadata": {},
   "outputs": [
    {
     "data": {
      "text/html": [
       "1.0536057232683472×10<sup>-34</sup> joule second"
      ],
      "text/latex": [
       "$1.0536057232683472\\times 10^{-34}\\ \\mathrm{joule} \\cdot \\mathrm{second}$"
      ],
      "text/plain": [
       "<Quantity(1.05360572e-34, 'joule * second')>"
      ]
     },
     "execution_count": 26,
     "metadata": {},
     "output_type": "execute_result"
    }
   ],
   "source": [
    "h_bar"
   ]
  },
  {
   "cell_type": "code",
   "execution_count": 27,
   "metadata": {},
   "outputs": [
    {
     "data": {
      "text/plain": [
       "np.float64(9.764076381871299e-24)"
      ]
     },
     "execution_count": 27,
     "metadata": {},
     "output_type": "execute_result"
    }
   ],
   "source": [
    "def cooling_rate(J):\n",
    "    Z = (2 * I * T* k_B)/(h_bar**2)\n",
    "    E_J = J*(J+1)*h_bar**2/(2*I)\n",
    "    P_J = ((2 * J + 1) * np.exp(-E_J/(k_B*T)))/Z\n",
    "    A_J = (1.07e-7) * ((J**4)/(J + 0.5)) / ureg.second\n",
    "    nu = (h_bar/(2*np.pi*I)) * J\n",
    "    #Lambda_J = P_J * A_J * h * nu_0\n",
    "    Lambda_J = P_J * A_J * h * nu\n",
    "    return Lambda_J.to(ureg.erg/ureg.second).magnitude\n",
    "\n",
    "cooling_rate(1)"
   ]
  },
  {
   "cell_type": "code",
   "execution_count": 28,
   "metadata": {},
   "outputs": [],
   "source": [
    "colling_rate_array = np.zeros(6)\n",
    "for i in range(1, 7):\n",
    "    colling_rate_array[i-1] = cooling_rate(i)"
   ]
  },
  {
   "cell_type": "code",
   "execution_count": 29,
   "metadata": {},
   "outputs": [
    {
     "data": {
      "text/plain": [
       "array([9.76407638e-24, 2.37214120e-22, 1.19161488e-21, 2.89433225e-21,\n",
       "       4.43605504e-21, 4.83038034e-21])"
      ]
     },
     "execution_count": 29,
     "metadata": {},
     "output_type": "execute_result"
    }
   ],
   "source": [
    "colling_rate_array"
   ]
  },
  {
   "cell_type": "code",
   "execution_count": 30,
   "metadata": {},
   "outputs": [
    {
     "data": {
      "text/plain": [
       "np.float64(1.3599360709581737e-20)"
      ]
     },
     "execution_count": 30,
     "metadata": {},
     "output_type": "execute_result"
    }
   ],
   "source": [
    "np.sum(colling_rate_array)"
   ]
  }
 ],
 "metadata": {
  "kernelspec": {
   "display_name": "Python 3",
   "language": "python",
   "name": "python3"
  },
  "language_info": {
   "codemirror_mode": {
    "name": "ipython",
    "version": 3
   },
   "file_extension": ".py",
   "mimetype": "text/x-python",
   "name": "python",
   "nbconvert_exporter": "python",
   "pygments_lexer": "ipython3",
   "version": "3.9.6"
  }
 },
 "nbformat": 4,
 "nbformat_minor": 2
}
