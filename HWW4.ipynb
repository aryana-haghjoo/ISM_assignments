{
 "cells": [
  {
   "cell_type": "markdown",
   "metadata": {},
   "source": [
    "Calculating the curve of growth for different ions based on different b values"
   ]
  },
  {
   "cell_type": "code",
   "execution_count": 21,
   "metadata": {},
   "outputs": [],
   "source": [
    "import numpy as np\n",
    "import matplotlib.pyplot as plt\n",
    "import pint\n",
    "from matplotlib import colormaps"
   ]
  },
  {
   "cell_type": "code",
   "execution_count": 22,
   "metadata": {},
   "outputs": [],
   "source": [
    "ureg = pint.UnitRegistry()\n",
    "ureg.default_system = 'cgs'"
   ]
  },
  {
   "cell_type": "code",
   "execution_count": 23,
   "metadata": {},
   "outputs": [],
   "source": [
    "c = 3e8 * ureg.m / ureg.s\n",
    "c = c.to_base_units()\n"
   ]
  },
  {
   "cell_type": "code",
   "execution_count": 24,
   "metadata": {},
   "outputs": [],
   "source": [
    "def tau_0(N, f, wavelength, b): #Draine, Eq. 9.10\n",
    "    return 0.7580 * (N/(1e13 *ureg.cm**(-2))) * (f/0.4164) * (wavelength/1215.7*ureg.angstrom) * ((10*ureg.km/ureg.s)/b)\n",
    "\n",
    "def W_approx (b, tau_0, gamma, wavelength): #Draine Eq. 9.27\n",
    "    if tau_0 <1.253933:\n",
    "        W = np.sqrt(np.pi)\n",
    "    else:\n",
    "        W = np.sqrt(((2*b)/c)**2) * np.log (tau_0/log(2)) + (b/c) * ((gamma*wavelength)/c)((tau_0 - 1.253933)/np.sqrt(np.pi))\n",
    "    return wavelength * W"
   ]
  },
  {
   "cell_type": "code",
   "execution_count": 25,
   "metadata": {},
   "outputs": [],
   "source": [
    "#defining wavelength, oscillator strength, and gamma for Fe II 2382, Fe II 2249, and C II 1334\n",
    "wavelength = np.array([2382.7642, 2249.8768, 1334.5323]) * ureg.angstrom\n",
    "f = np.array([0.320, 0.00182, 0.12780])\n",
    "gamma = np.array([3.13e8, 3.31e8, 2.88e8]) * ureg.s**(-1)\n",
    "N_Fe = np.linspace(1e12,1e17,100000) *ureg.cm**2  \n",
    "N_C = np.linspace(1e13,1e17,100000) *ureg.cm**2   \n",
    "b = np.array([1, 2, 3, 5])"
   ]
  },
  {
   "cell_type": "code",
   "execution_count": 28,
   "metadata": {},
   "outputs": [],
   "source": [
    "def width_calc(b, N, f, wavelength, gamma):\n",
    "    \"\"\"\n",
    "    N and b are arrays of column density and Doppler parameter values, respectively.\n",
    "    f and wavelength are the oscillator strength and wavelength of the transition.\n",
    "    \"\"\"\n",
    "    width = np.zeros((len(N), len(b)))\n",
    "    for i in range(len(N)):\n",
    "        for j in range(len(b)):\n",
    "            tau = tau_0(N[i], f, wavelength, b[j])\n",
    "            width[i,j] = W_approx(b[j], tau, gamma, wavelength)\n",
    "    return width"
   ]
  },
  {
   "cell_type": "code",
   "execution_count": null,
   "metadata": {},
   "outputs": [],
   "source": []
  },
  {
   "cell_type": "markdown",
   "metadata": {},
   "source": []
  }
 ],
 "metadata": {
  "kernelspec": {
   "display_name": "Python 3",
   "language": "python",
   "name": "python3"
  },
  "language_info": {
   "codemirror_mode": {
    "name": "ipython",
    "version": 3
   },
   "file_extension": ".py",
   "mimetype": "text/x-python",
   "name": "python",
   "nbconvert_exporter": "python",
   "pygments_lexer": "ipython3",
   "version": "3.9.6"
  }
 },
 "nbformat": 4,
 "nbformat_minor": 2
}
