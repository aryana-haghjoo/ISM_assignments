{
 "cells": [
  {
   "cell_type": "markdown",
   "metadata": {},
   "source": [
    "Solving the Following Equation Symbolically:\n",
    "$$ T \\times (0.684 + 0.54 \\times (\\frac{T}{10^4 K})^{0 .37}) = \\psi_0 \\times 32000$$"
   ]
  },
  {
   "cell_type": "code",
   "execution_count": 9,
   "metadata": {},
   "outputs": [
    {
     "name": "stdout",
     "output_type": "stream",
     "text": [
      "The root of the equation is: 20006.45641891996\n"
     ]
    }
   ],
   "source": [
    "import numpy as np\n",
    "from scipy.optimize import fsolve\n",
    "\n",
    "# Define the equation as a function\n",
    "def equation(T):\n",
    "    return T * (0.684 + 0.54 * (T / 10**4)**0.37) - 0.864 * 32000\n",
    "\n",
    "# Initial guess for T\n",
    "initial_guess = 10000\n",
    "\n",
    "# Solve the equation\n",
    "root = fsolve(equation, initial_guess)\n",
    "\n",
    "print(f\"The root of the equation is: {root[0]}\")"
   ]
  },
  {
   "cell_type": "markdown",
   "metadata": {},
   "source": [
    "Solving the Following Equation Symbolically:\n",
    "$$ T \\times (0.684 + 0.54 \\times (\\frac{T}{10^4 K})^{0 .37}) = <\\psi> \\times 32000$$"
   ]
  },
  {
   "cell_type": "code",
   "execution_count": 10,
   "metadata": {},
   "outputs": [
    {
     "name": "stdout",
     "output_type": "stream",
     "text": [
      "The root of the equation is: 29617.883037337822\n"
     ]
    }
   ],
   "source": [
    "import numpy as np\n",
    "from scipy.optimize import fsolve\n",
    "\n",
    "# Define the equation as a function\n",
    "def equation(T):\n",
    "    return T * (0.684 + 0.54 * (T / 10**4)**0.37) - 1.38 * 32000\n",
    "\n",
    "# Initial guess for T\n",
    "initial_guess = 10000\n",
    "\n",
    "# Solve the equation\n",
    "root = fsolve(equation, initial_guess)\n",
    "\n",
    "print(f\"The root of the equation is: {root[0]}\")"
   ]
  }
 ],
 "metadata": {
  "kernelspec": {
   "display_name": "Python 3",
   "language": "python",
   "name": "python3"
  },
  "language_info": {
   "codemirror_mode": {
    "name": "ipython",
    "version": 3
   },
   "file_extension": ".py",
   "mimetype": "text/x-python",
   "name": "python",
   "nbconvert_exporter": "python",
   "pygments_lexer": "ipython3",
   "version": "3.9.6"
  }
 },
 "nbformat": 4,
 "nbformat_minor": 2
}
